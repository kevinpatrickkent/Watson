{
 "cells": [
  {
   "cell_type": "markdown",
   "metadata": {},
   "source": [
    "<center>\n",
    "    <img src=\"https://cf-courses-data.s3.us.cloud-object-storage.appdomain.cloud/IBMDeveloperSkillsNetwork-DS0105EN-SkillsNetwork/labs/Module2/images/SN_web_lightmode.png\" width=\"300\" alt=\"cognitiveclass.ai logo\"  />\n",
    "</center>\n"
   ]
  },
  {
   "cell_type": "markdown",
   "metadata": {},
   "source": [
    "#### Add your code below following the instructions given in the course\n"
   ]
  },
  {
   "cell_type": "markdown",
   "metadata": {},
   "source": [
    "## My Jupyter Notebook on Skills Network"
   ]
  },
  {
   "cell_type": "markdown",
   "metadata": {},
   "source": [
    "**Kevin Patrick Kent, Ph.D.**\n",
    "\n",
    "Current Occupation: Biological Research and Innovation Senior Scientist\n",
    "\n",
    "Desired Occupation: Data Scientist"
   ]
  },
  {
   "cell_type": "markdown",
   "metadata": {},
   "source": [
    "_I am interested in data science because I have worked some on process and raw material optimization in various roles in research and development settings.  The actual model building, data interpretation, and visualization has been the most interesting to me on most of my projects.  I would like to find a role where I can work more in using various programming languages to make decisions based on data._"
   ]
  },
  {
   "cell_type": "code",
   "execution_count": 2,
   "metadata": {},
   "outputs": [
    {
     "name": "stdout",
     "output_type": "stream",
     "text": [
      "Nac\n",
      "Mac\n",
      "Feegles\n",
      "are\n",
      "good\n",
      "at\n",
      "drinking\n",
      "stealing\n",
      "fighting\n"
     ]
    }
   ],
   "source": [
    "#This is supposed to be a simple few lines of code in the assignment.\n",
    "\n",
    "stuff = ['Nac', 'Mac', 'Feegles', 'are', 'good', 'at', 'drinking', 'stealing', 'fighting']\n",
    "\n",
    "for words in stuff:\n",
    "    print(words)\n"
   ]
  },
  {
   "cell_type": "markdown",
   "metadata": {},
   "source": [
    "OK, I have to use several elements in this markdown so here goes:\n",
    "\n",
    "In discworld there are little blue men with red hair that go by the names of:\n",
    "\n",
    "- wee free men\n",
    "- nac mac feegles\n",
    "- ~Rob Anybody~ (but don't tell him I typed his name)\n",
    "\n",
    "You can read more about them here: __[The Wee Free Men](https://en.wikipedia.org/wiki/The_Wee_Free_Men)__ "
   ]
  },
  {
   "cell_type": "code",
   "execution_count": null,
   "metadata": {},
   "outputs": [],
   "source": []
  }
 ],
 "metadata": {
  "kernelspec": {
   "display_name": "Python",
   "language": "python",
   "name": "conda-env-python-py"
  },
  "language_info": {
   "codemirror_mode": {
    "name": "ipython",
    "version": 3
   },
   "file_extension": ".py",
   "mimetype": "text/x-python",
   "name": "python",
   "nbconvert_exporter": "python",
   "pygments_lexer": "ipython3",
   "version": "3.7.12"
  }
 },
 "nbformat": 4,
 "nbformat_minor": 4
}
